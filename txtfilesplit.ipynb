{
 "cells": [
  {
   "cell_type": "code",
   "execution_count": 4,
   "metadata": {},
   "outputs": [],
   "source": [
    "import pandas as pd\n",
    "\n",
    "with open(\"gold_car_therm_test.txt\", \"r\") as f:\n",
    "    buff = []\n",
    "    i = 1\n",
    "    for line in f:\n",
    "        if line.strip():  #skips the empty lines\n",
    "           buff.append(line)\n",
    "        if line.strip() == \"break\":\n",
    "           output = open('%d.txt' % i,'w')\n",
    "           output.write('StopTime(s),Thermo1,Thermo2,Thermo3 \\n')\n",
    "           output.write(''.join(buff))\n",
    "           output.close()\n",
    "  \n",
    "           dataframe1 = pd.read_csv(\"%d.txt\" % i)\n",
    "           dataframe1.to_csv('%d.csv' % i, index = None)\n",
    "\n",
    "           i+=1\n",
    "           buff = [] #buffer reset\n"
   ]
  }
 ],
 "metadata": {
  "kernelspec": {
   "display_name": "myenv",
   "language": "python",
   "name": "python3"
  },
  "language_info": {
   "codemirror_mode": {
    "name": "ipython",
    "version": 3
   },
   "file_extension": ".py",
   "mimetype": "text/x-python",
   "name": "python",
   "nbconvert_exporter": "python",
   "pygments_lexer": "ipython3",
   "version": "3.9.13"
  },
  "orig_nbformat": 4
 },
 "nbformat": 4,
 "nbformat_minor": 2
}
